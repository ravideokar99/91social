{
 "cells": [
  {
   "cell_type": "code",
   "execution_count": 2,
   "metadata": {},
   "outputs": [
    {
     "name": "stdout",
     "output_type": "stream",
     "text": [
      "['Truancy is an activity which some children regard as amusing oreven exciting, but which can have\\n', 'serious impacts on their future and on society as a whole. I can identify two main causes, and three broad\\n', 'effects, which we will describe now.Perhaps the main causeis a sense of boredom or frustration with school itself, for instance with thecontent, pace or organisation of thelessons. This can beseen in the way that pupils often avoid certain lessonsbut not others, suggesting that specific subjects or teachers arethe personal grievance. Another factor mayfrequently be peer pressure, meaning that pupils feel obliged to play truant becausesome of their peers orfriends are doing this. We can seethat the childâ€™s desireto be popular among a peer group may be higher than the motivation to study and progress.Turning to possibleeffects, thetendency to underperform academically is probably the most seriousimpact on a pupilâ€™s life, leading to poorexam results and weak career progression in later life. Anothereffectmay bethetemptation to participatein petty crime or antisocial behaviour whilethe child is unsupervised,potentially opening a pathway into moreserious crimes later on. Forexample, a child who commits vandalismmay progress to theft and robbery, a trend weseein some major South American cities such as Rio or BuenosAires. This issue of crimeis probably thethird majoreffect, and onethat impacts on the community as awhole. For instance, children playing truant may cause damage, drop litter, intimidateelderly people andcommit other acts which spread a sense of instability and anxiety, even though thefinancial impact is low.To sum up, the causes of truancy generally relateto lack of challenge or peer pressures, whiletheeffects areseen in individual under-achievement and in minor crime against the community as a whole.\\n', '\\n']\n"
     ]
    }
   ],
   "source": [
    "\n",
    "\n",
    "file= open(\"file.txt\")\n",
    "read_file=file.readlines()\n",
    "lst=[] \n",
    "\n",
    "for i in read_file:\n",
    "    lst.append(i)\n",
    "print(lst)\n"
   ]
  },
  {
   "cell_type": "code",
   "execution_count": 3,
   "metadata": {},
   "outputs": [
    {
     "name": "stdout",
     "output_type": "stream",
     "text": [
      "9\n"
     ]
    }
   ],
   "source": [
    "from datetime import date\n",
    "f_date = date(2020,7,2)\n",
    "l_date = date(2020,7,11)\n",
    "diff = l_date - f_date\n",
    "print(diff.days)"
   ]
  },
  {
   "cell_type": "code",
   "execution_count": 4,
   "metadata": {},
   "outputs": [
    {
     "name": "stdout",
     "output_type": "stream",
     "text": [
      "{\n",
      "    \"brand\": \"Ford\",\n",
      "    \"model\": \"Mustang\",\n",
      "    \"year\": 1964\n",
      "}\n"
     ]
    }
   ],
   "source": [
    "import json\n",
    "thisdict = {\n",
    "  \"brand\": \"Ford\",\n",
    "  \"model\": \"Mustang\",\n",
    "  \"year\": 1964\n",
    "}\n",
    "print(json.dumps(thisdict, sort_keys=True, indent=4))"
   ]
  },
  {
   "cell_type": "code",
   "execution_count": 5,
   "metadata": {},
   "outputs": [
    {
     "data": {
      "text/plain": [
       "[{'make': 'Nokia', 'model': 216, 'color': 'Black'},\n",
       " {'make': 'Samsung', 'model': 7, 'color': 'Blue'},\n",
       " {'make': 'Mi Max', 'model': '2', 'color': 'Gold'}]"
      ]
     },
     "execution_count": 5,
     "metadata": {},
     "output_type": "execute_result"
    }
   ],
   "source": [
    "lstdict = [{'make': 'Nokia', 'model': 216, 'color': 'Black'}, {'make': 'Mi Max', 'model': '2',\n",
    "'color': 'Gold'}, {'make': 'Samsung', 'model': 7, 'color': 'Blue'}]\n",
    "sort = sorted(lstdict, key = lambda x: x['color'])\n",
    "sort"
   ]
  },
  {
   "cell_type": "code",
   "execution_count": null,
   "metadata": {},
   "outputs": [],
   "source": []
  },
  {
   "cell_type": "code",
   "execution_count": 6,
   "metadata": {},
   "outputs": [
    {
     "name": "stdout",
     "output_type": "stream",
     "text": [
      "file.txt\n",
      "272\n"
     ]
    }
   ],
   "source": [
    "with open(input(), 'r') as f:\n",
    "    data=f.read()\n",
    "    print(len(data.split(\" \")))"
   ]
  },
  {
   "cell_type": "code",
   "execution_count": 7,
   "metadata": {},
   "outputs": [
    {
     "name": "stdout",
     "output_type": "stream",
     "text": [
      "Bytes to String: \n",
      "b'w3resource'\n"
     ]
    }
   ],
   "source": [
    "from array import *\n",
    "print(\"Bytes to String: \")\n",
    "x = array('b', [119, 51, 114, 101,  115, 111, 117, 114, 99, 101])\n",
    "s = x.tobytes()\n",
    "print(s)\n"
   ]
  },
  {
   "cell_type": "code",
   "execution_count": 8,
   "metadata": {},
   "outputs": [
    {
     "name": "stdout",
     "output_type": "stream",
     "text": [
      "og array\n",
      "a1: array('i', [1, 2, 3, 4, 5, 6])\n",
      "b'\\x01\\x00\\x00\\x00\\x02\\x00\\x00\\x00\\x03\\x00\\x00\\x00\\x04\\x00\\x00\\x00\\x05\\x00\\x00\\x00\\x06\\x00\\x00\\x00'\n",
      "bytes rep: b'010000000200000003000000040000000500000006000000'\n"
     ]
    }
   ],
   "source": [
    "import array\n",
    "import binascii\n",
    "a = array.array('i', [1,2,3,4,5,6])\n",
    "print(\"og array\")\n",
    "print('a1:', a)\n",
    "byt_arr = a.tobytes()\n",
    "print(byt_arr)\n",
    "print('bytes rep:', binascii.hexlify(byt_arr))"
   ]
  },
  {
   "cell_type": "code",
   "execution_count": 9,
   "metadata": {},
   "outputs": [
    {
     "name": "stdout",
     "output_type": "stream",
     "text": [
      " test.log\n",
      "03-17 16:13:38.811 1702 2395 D WindowManager:\n",
      "printFreezingDisplayLogsopening app wtoken = AppWindowToken{9f4ef63\n",
      "token=Token{a64f992 ActivityRecord{de9231d u0\n",
      "com.tencent.qt.qtl/.activity.info.NewsDetailXmlActivity t761}}}, allDrawn= false,\n",
      "startingDisplayed = false, startingMoved = false, isRelaunching = false\n",
      " 03-17 16:13:38.819 1702 8671 D PowerManagerService: acquire lock=233570404,\n",
      "flags=0x1, tag=\"View Lock\", name=com.android.systemui, ws=null, uid=10037,\n",
      "pid=2227\n",
      " 03-17 16:13:38.820 1702 8671 D PowerManagerService:\n",
      "ready=true,policy=3,wakefulness=1,wksummary=0x23,uasummary=0x1,bootcomplete\n",
      "d=true,boostinprogress=false,waitmodeenable=false,mode=false,manual=38,auto=-1,a\n",
      "dj=0.0userId=0\n",
      " 03-17 16:13:38.839 1702 2113 V WindowManager: Skipping\n",
      "AppWindowToken{df0798e token=Token{78af589 ActivityRecord{3b04890 u0\n",
      "com.tencent.qt.qtl/com.tencent.video.player.activity.PlayerActivity t761}}} -- going to\n",
      "hide\n",
      " 03-17 16:13:38.859 2227 2227 D TextView: visible is system.time.showampm\n",
      " 03-17 16:13:38.861 2227 2227 D TextView: mVisiblity.getValue is false\n",
      " 03-17 16:13:38.869 2227 2227 D TextView: visible is system.charge.show\n",
      " 03-17 16:13:38.887 2227 2227 D TextView: visible is system.ownerinfo.show\n",
      "Timestamp: 2021-01-16 12:48:29\n"
     ]
    }
   ],
   "source": [
    "import logging\n",
    "import datetime\n",
    "with open(input(\" \"), 'r') as f:\n",
    "    data=f.read()\n",
    "    print(data)\n",
    "f = open(\"demofile3.txt\", \"w\")\n",
    "f.write(data)\n",
    "f.close()\n",
    "\n",
    "\n",
    "print('Timestamp: {:%Y-%m-%d %H:%M:%S}'.format(datetime.datetime.now()))\n",
    "    "
   ]
  },
  {
   "cell_type": "code",
   "execution_count": 103,
   "metadata": {},
   "outputs": [
    {
     "name": "stdout",
     "output_type": "stream",
     "text": [
      "03-17 16:13:38.811 1702 2395 D WindowManager:printFreezingDisplayLogsopening app wtoken = AppWindowToken{9f4ef63token=Token{a64f992 ActivityRecord{de9231d u0com.tencent.qt.qtl/.activity.info.NewsDetailXmlActivity t761}}}, allDrawn= false,startingDisplayed = false, startingMoved = false, isRelaunching = false 2021-01-16 14:32:51.650685 03-17 16:13:38.819 1702 8671 D PowerManagerService: acquire lock=233570404,flags=0x1, tag=\"View Lock\", name=com.android.systemui, ws=null, uid=10037,pid=2227 03-17 16:13:38.820 1702 8671 D PowerManagerService:ready=true,policy=3,wakefulness=1,wksummary=0x23,uasummary=0x1,bootcompleted=true,boostinprogress=false,waitmodeenable=false,mode=false,manual=38,auto=-1,adj=0.0userId=0 2021-01-16 14:32:51.650685 03-17 16:13:38.839 1702 2113 V WindowManager: SkippingAppWindowToken{df0798e token=Token{78af589 ActivityRecord{3b04890 u0com.tencent.qt.qtl/com.tencent.video.player.activity.PlayerActivity t761}}} -- going tohide2021-01-16 14:32:51.650685 03-17 16:13:38.859 2227 2227 D TextView: visible is system.time.showampm2021-01-16 14:32:51.650685 03-17 16:13:38.861 2227 2227 D TextView: mVisiblity.getValue is false2021-01-16 14:32:51.650685 03-17 16:13:38.869 2227 2227 D TextView: visible is system.charge.show2021-01-16 14:32:51.650685\n"
     ]
    }
   ],
   "source": [
    "lst=[]\n",
    "with open(r\"test.log\") as f:\n",
    "    for line in f:\n",
    "        fields = line.split('\\n')\n",
    "        #for field in fields:\n",
    "            \n",
    "        #print((fields))\n",
    "    #x= fields.replace('',\"\")\n",
    "        for field in fields:\n",
    "            lst.append(field)\n",
    "    res = [] \n",
    "    for ele in lst: \n",
    "        if ele.strip(): \n",
    "            res.append(ele) \n",
    "   \n",
    "    #print(res)\n",
    "    a= res[0:5]\n",
    "    b= \"\".join(a)\n",
    "    \n",
    "    dt=str(datetime.datetime.now())\n",
    "    ab=(b+\" \"+ dt)\n",
    "    \n",
    "    c =res[5:12]\n",
    "    #print(c)\n",
    "    d = \"\".join(c)\n",
    "    cd = (d +\" \"+dt)\n",
    "    \n",
    "    e=res[12:16]\n",
    "    e=\"\".join(e)\n",
    "    ed=(e +\"\"+dt)\n",
    "    f= res[16]\n",
    "    fd =(f + \"\" +dt)\n",
    "    g=res[17]\n",
    "    h=res[18]\n",
    "    j=res[19]\n",
    "    gd= (g + \"\" +dt)\n",
    "    hd= (h + \"\" +dt)\n",
    "    jd= (j + \"\" +dt)\n",
    "    final = ab + cd + ed + fd + gd + hd\n",
    "    print(final)\n",
    "    f = open(\"91social.txt\", \"w\")\n",
    "    f.write(final)\n",
    "    f.close()\n",
    "    \n",
    "    "
   ]
  },
  {
   "cell_type": "code",
   "execution_count": 84,
   "metadata": {
    "scrolled": true
   },
   "outputs": [
    {
     "name": "stdout",
     "output_type": "stream",
     "text": [
      "['03-17 16:13:38.811 1702 2395 D WindowManager:', 'printFreezingDisplayLogsopening app wtoken = AppWindowToken{9f4ef63', 'token=Token{a64f992 ActivityRecord{de9231d u0', 'com.tencent.qt.qtl/.activity.info.NewsDetailXmlActivity t761}}}, allDrawn= false,', 'startingDisplayed = false, startingMoved = false, isRelaunching = false', ' 03-17 16:13:38.819 1702 8671 D PowerManagerService: acquire lock=233570404,', 'flags=0x1, tag=\"View Lock\", name=com.android.systemui, ws=null, uid=10037,', 'pid=2227', ' 03-17 16:13:38.820 1702 8671 D PowerManagerService:', 'ready=true,policy=3,wakefulness=1,wksummary=0x23,uasummary=0x1,bootcomplete', 'd=true,boostinprogress=false,waitmodeenable=false,mode=false,manual=38,auto=-1,a', 'dj=0.0userId=0', ' 03-17 16:13:38.839 1702 2113 V WindowManager: Skipping', 'AppWindowToken{df0798e token=Token{78af589 ActivityRecord{3b04890 u0', 'com.tencent.qt.qtl/com.tencent.video.player.activity.PlayerActivity t761}}} -- going to', 'hide', ' 03-17 16:13:38.859 2227 2227 D TextView: visible is system.time.showampm', ' 03-17 16:13:38.861 2227 2227 D TextView: mVisiblity.getValue is false', ' 03-17 16:13:38.869 2227 2227 D TextView: visible is system.charge.show', ' 03-17 16:13:38.887 2227 2227 D TextView: visible is system.ownerinfo.show']\n"
     ]
    }
   ],
   "source": [
    "print(res)"
   ]
  },
  {
   "cell_type": "code",
   "execution_count": null,
   "metadata": {},
   "outputs": [],
   "source": []
  }
 ],
 "metadata": {
  "kernelspec": {
   "display_name": "Python 3",
   "language": "python",
   "name": "python3"
  },
  "language_info": {
   "codemirror_mode": {
    "name": "ipython",
    "version": 3
   },
   "file_extension": ".py",
   "mimetype": "text/x-python",
   "name": "python",
   "nbconvert_exporter": "python",
   "pygments_lexer": "ipython3",
   "version": "3.8.5"
  }
 },
 "nbformat": 4,
 "nbformat_minor": 4
}
